{
 "cells": [
  {
   "cell_type": "code",
   "execution_count": 1,
   "metadata": {},
   "outputs": [
    {
     "name": "stderr",
     "output_type": "stream",
     "text": [
      "/home/aakash/miniconda3/lib/python3.7/site-packages/torch/cuda/__init__.py:125: UserWarning: \n",
      "GeForce GT 740M with CUDA capability sm_35 is not compatible with the current PyTorch installation.\n",
      "The current PyTorch install supports CUDA capabilities sm_37 sm_50 sm_60 sm_70 sm_75.\n",
      "If you want to use the GeForce GT 740M GPU with PyTorch, please check the instructions at https://pytorch.org/get-started/locally/\n",
      "\n",
      "  warnings.warn(incompatible_device_warn.format(device_name, capability, \" \".join(arch_list), device_name))\n"
     ]
    }
   ],
   "source": [
    "from fastai.vision.widgets import *"
   ]
  },
  {
   "cell_type": "code",
   "execution_count": 3,
   "metadata": {},
   "outputs": [],
   "source": [
    "from fastai.vision.all import *"
   ]
  },
  {
   "cell_type": "code",
   "execution_count": 12,
   "metadata": {},
   "outputs": [],
   "source": [
    "import pretrainedmodels"
   ]
  },
  {
   "cell_type": "code",
   "execution_count": 9,
   "metadata": {},
   "outputs": [],
   "source": [
    "path = '/home/aakash/Downloads/'"
   ]
  },
  {
   "cell_type": "code",
   "execution_count": 13,
   "metadata": {},
   "outputs": [],
   "source": [
    "def se_resnext50_32x4d(pretrained=False):\n",
    "    pretrained = 'imagenet' if pretrained else None\n",
    "    model = pretrainedmodels.se_resnext50_32x4d(pretrained=pretrained)\n",
    "    return nn.Sequential(*list(model.children()))"
   ]
  },
  {
   "cell_type": "code",
   "execution_count": 14,
   "metadata": {},
   "outputs": [],
   "source": [
    "learn_inf = load_learner(path+'mymodel.pkl','cpu')"
   ]
  },
  {
   "cell_type": "code",
   "execution_count": 15,
   "metadata": {},
   "outputs": [
    {
     "data": {
      "text/html": [],
      "text/plain": [
       "<IPython.core.display.HTML object>"
      ]
     },
     "metadata": {},
     "output_type": "display_data"
    },
    {
     "data": {
      "text/plain": [
       "('Chevrolet Camaro Convertible 2012',\n",
       " tensor(54),\n",
       " tensor([1.9025e-08, 2.1555e-09, 1.1448e-10, 5.4140e-10, 2.5363e-11, 1.3418e-07,\n",
       "         1.1787e-08, 2.9629e-06, 1.2482e-09, 3.2861e-08, 2.5514e-09, 4.4681e-10,\n",
       "         6.5174e-10, 3.0539e-09, 6.0895e-08, 5.1952e-09, 6.0431e-11, 2.3197e-08,\n",
       "         1.8665e-06, 2.3500e-09, 4.5301e-12, 6.0436e-09, 1.7085e-07, 2.7755e-09,\n",
       "         3.8868e-09, 1.2353e-05, 1.6456e-08, 8.6709e-10, 1.6998e-08, 5.5234e-09,\n",
       "         1.8083e-08, 6.4094e-08, 1.3525e-08, 1.9900e-06, 1.5218e-10, 7.4272e-09,\n",
       "         4.9497e-08, 2.2790e-07, 1.1361e-08, 4.9241e-09, 4.2245e-09, 5.0145e-08,\n",
       "         6.6391e-06, 1.1411e-08, 3.4185e-07, 1.3706e-11, 2.4122e-11, 3.5974e-10,\n",
       "         2.2952e-08, 6.2504e-11, 1.6799e-09, 3.7757e-10, 1.0866e-09, 7.6907e-10,\n",
       "         9.9978e-01, 8.4424e-08, 3.4799e-07, 1.9035e-05, 9.0650e-10, 6.8155e-10,\n",
       "         1.0378e-09, 1.2235e-08, 2.2215e-11, 1.3661e-09, 3.0329e-10, 9.6424e-10,\n",
       "         2.2741e-08, 8.9326e-11, 3.6396e-11, 3.4193e-09, 7.7743e-10, 2.1314e-08,\n",
       "         9.6389e-11, 4.6429e-09, 3.9954e-11, 5.4040e-08, 4.7757e-11, 1.4717e-08,\n",
       "         2.8359e-08, 8.5422e-07, 3.5252e-12, 1.8495e-09, 9.5433e-09, 3.2125e-08,\n",
       "         3.5140e-11, 2.3158e-05, 1.0495e-06, 4.1520e-06, 1.9510e-08, 8.9252e-07,\n",
       "         2.1071e-09, 6.3329e-08, 1.8491e-06, 2.4425e-08, 1.5085e-09, 4.0390e-09,\n",
       "         8.8734e-08, 1.2034e-09, 1.0021e-08, 8.3958e-09, 9.1372e-05, 8.1174e-09,\n",
       "         6.1507e-06, 1.2526e-07, 3.6526e-08, 3.1229e-09, 1.2839e-10, 1.4454e-08,\n",
       "         2.1705e-09, 1.0808e-08, 5.5405e-06, 5.7287e-11, 5.6529e-09, 3.2065e-12,\n",
       "         1.9980e-07, 2.5112e-05, 2.5689e-07, 1.0172e-07, 1.0460e-08, 2.2760e-11,\n",
       "         7.0738e-11, 2.0750e-11, 2.8632e-08, 4.3299e-09, 7.2682e-09, 1.7052e-09,\n",
       "         7.7377e-11, 7.2779e-10, 1.1106e-10, 1.6284e-09, 4.3616e-08, 2.6753e-11,\n",
       "         5.7017e-12, 5.3317e-10, 2.7048e-09, 1.0930e-08, 1.9096e-10, 2.2663e-08,\n",
       "         1.1746e-09, 1.5801e-09, 4.3781e-09, 5.5744e-08, 3.8416e-10, 3.0692e-06,\n",
       "         9.1412e-10, 3.1611e-10, 3.5685e-10, 1.4573e-09, 1.4271e-09, 1.8517e-07,\n",
       "         1.2889e-10, 1.2655e-09, 1.5575e-08, 1.7754e-10, 3.2495e-10, 1.4871e-11,\n",
       "         1.1364e-05, 3.4543e-08, 5.0556e-10, 2.4305e-08, 7.3358e-09, 7.9461e-08,\n",
       "         1.9387e-08, 8.3299e-11, 1.3884e-07, 9.1494e-10, 4.5721e-10, 1.6849e-07,\n",
       "         5.7291e-09, 1.2463e-09, 2.6355e-09, 5.2273e-09, 2.1567e-09, 2.2270e-09,\n",
       "         7.6043e-12, 1.5676e-08, 1.5677e-07, 6.4825e-10, 3.8834e-09, 6.2966e-07,\n",
       "         2.4984e-10, 2.9216e-10, 9.5603e-09, 3.7033e-11, 4.3720e-09, 4.5525e-09,\n",
       "         2.2840e-08, 4.8724e-07, 6.6810e-10, 1.8246e-09, 6.7097e-09, 1.1841e-11,\n",
       "         1.3192e-09, 2.2667e-08, 2.9296e-10, 2.6970e-08]))"
      ]
     },
     "execution_count": 15,
     "metadata": {},
     "output_type": "execute_result"
    }
   ],
   "source": [
    "learn_inf.predict(path + 'maxresdefault.jpg')"
   ]
  },
  {
   "cell_type": "code",
   "execution_count": 16,
   "metadata": {},
   "outputs": [
    {
     "data": {
      "text/plain": [
       "(#196) ['AM General Hummer SUV 2000','Acura Integra Type R 2001','Acura RL Sedan 2012','Acura TL Sedan 2012','Acura TL Type-S 2008','Acura TSX Sedan 2012','Acura ZDX Hatchback 2012','Aston Martin V8 Vantage Convertible 2012','Aston Martin V8 Vantage Coupe 2012','Aston Martin Virage Convertible 2012'...]"
      ]
     },
     "execution_count": 16,
     "metadata": {},
     "output_type": "execute_result"
    }
   ],
   "source": [
    "learn_inf.dls.vocab"
   ]
  },
  {
   "cell_type": "code",
   "execution_count": 17,
   "metadata": {},
   "outputs": [
    {
     "data": {
      "application/vnd.jupyter.widget-view+json": {
       "model_id": "d929d55e2c454168ac126657f81add03",
       "version_major": 2,
       "version_minor": 0
      },
      "text/plain": [
       "FileUpload(value={}, description='Upload')"
      ]
     },
     "metadata": {},
     "output_type": "display_data"
    }
   ],
   "source": [
    "btn_upload = widgets.FileUpload()\n",
    "btn_upload"
   ]
  },
  {
   "cell_type": "code",
   "execution_count": 18,
   "metadata": {},
   "outputs": [],
   "source": [
    "img = PILImage.create(btn_upload.data[-1])"
   ]
  },
  {
   "cell_type": "code",
   "execution_count": 19,
   "metadata": {},
   "outputs": [
    {
     "data": {
      "application/vnd.jupyter.widget-view+json": {
       "model_id": "f1097d30909a4886b0737ce42004c3bb",
       "version_major": 2,
       "version_minor": 0
      },
      "text/plain": [
       "Output()"
      ]
     },
     "metadata": {},
     "output_type": "display_data"
    }
   ],
   "source": [
    "out_pl = widgets.Output()\n",
    "out_pl.clear_output()\n",
    "with out_pl: display(img.to_thumb(128,128))\n",
    "out_pl"
   ]
  },
  {
   "cell_type": "code",
   "execution_count": 20,
   "metadata": {},
   "outputs": [
    {
     "data": {
      "text/html": [],
      "text/plain": [
       "<IPython.core.display.HTML object>"
      ]
     },
     "metadata": {},
     "output_type": "display_data"
    }
   ],
   "source": [
    "pred,pred_idx,probs = learn_inf.predict(img)"
   ]
  },
  {
   "cell_type": "code",
   "execution_count": 21,
   "metadata": {},
   "outputs": [
    {
     "data": {
      "application/vnd.jupyter.widget-view+json": {
       "model_id": "921ec2049ad249eca2cacfc5f7642ea9",
       "version_major": 2,
       "version_minor": 0
      },
      "text/plain": [
       "Label(value='Prediction: Suzuki SX4 Hatchback 2012; Probability: 0.9478')"
      ]
     },
     "metadata": {},
     "output_type": "display_data"
    }
   ],
   "source": [
    "lbl_pred = widgets.Label()\n",
    "lbl_pred.value = f'Prediction: {pred}; Probability: {probs[pred_idx]:.04f}'\n",
    "lbl_pred"
   ]
  },
  {
   "cell_type": "code",
   "execution_count": 22,
   "metadata": {},
   "outputs": [
    {
     "data": {
      "application/vnd.jupyter.widget-view+json": {
       "model_id": "d0f124c28c4e46cc8d11b9f2fb07976d",
       "version_major": 2,
       "version_minor": 0
      },
      "text/plain": [
       "Button(description='Classify', style=ButtonStyle())"
      ]
     },
     "metadata": {},
     "output_type": "display_data"
    }
   ],
   "source": [
    "btn_run = widgets.Button(description='Classify')\n",
    "btn_run"
   ]
  },
  {
   "cell_type": "code",
   "execution_count": 25,
   "metadata": {},
   "outputs": [],
   "source": [
    "def on_click_classify(change):\n",
    "    img = PILImage.create(btn_upload.data[-1])\n",
    "    out_pl.clear_output()\n",
    "    with out_pl: display(img)\n",
    "    pred,pred_idx,probs = learn_inf.predict(img)\n",
    "    lbl_pred.value = f'Prediction: {pred}; Probability: {probs[pred_idx]:.04f}'\n",
    "\n",
    "btn_run.on_click(on_click_classify)"
   ]
  },
  {
   "cell_type": "code",
   "execution_count": 26,
   "metadata": {},
   "outputs": [
    {
     "data": {
      "application/vnd.jupyter.widget-view+json": {
       "model_id": "16a6bd3ea7e4404ba0de8a7e475b771f",
       "version_major": 2,
       "version_minor": 0
      },
      "text/plain": [
       "VBox(children=(Label(value='Select your Car!'), FileUpload(value={'2019_Rolls-Royce_Phantom_V12_Automatic_6.75…"
      ]
     },
     "metadata": {},
     "output_type": "display_data"
    }
   ],
   "source": [
    "VBox([widgets.Label('Select your Car!'), \n",
    "      btn_upload, btn_run, out_pl, lbl_pred])"
   ]
  },
  {
   "cell_type": "code",
   "execution_count": 27,
   "metadata": {},
   "outputs": [
    {
     "name": "stdout",
     "output_type": "stream",
     "text": [
      "Collecting voila\n",
      "  Downloading voila-0.1.22-py3-none-any.whl (5.9 MB)\n",
      "\u001b[K     |████████████████████████████████| 5.9 MB 2.9 MB/s eta 0:00:01\n",
      "\u001b[?25hCollecting async-generator\n",
      "  Downloading async_generator-1.10-py3-none-any.whl (18 kB)\n",
      "Collecting jupyter-server<0.2.0,>=0.1.0\n",
      "  Downloading jupyter_server-0.1.1-py2.py3-none-any.whl (183 kB)\n",
      "\u001b[K     |████████████████████████████████| 183 kB 18.6 MB/s eta 0:00:01\n",
      "\u001b[?25hCollecting jupyterlab-pygments<0.2,>=0.1.0\n",
      "  Downloading jupyterlab_pygments-0.1.1-py2.py3-none-any.whl (4.6 kB)\n",
      "Requirement already satisfied: nbconvert<6,>=5.5.0 in /home/aakash/miniconda3/lib/python3.7/site-packages (from voila) (5.6.1)\n",
      "Requirement already satisfied: pygments<3,>=2.4.1 in /home/aakash/miniconda3/lib/python3.7/site-packages (from voila) (2.6.1)\n",
      "Requirement already satisfied: prometheus-client in /home/aakash/miniconda3/lib/python3.7/site-packages (from jupyter-server<0.2.0,>=0.1.0->voila) (0.8.0)\n",
      "Requirement already satisfied: nbformat in /home/aakash/miniconda3/lib/python3.7/site-packages (from jupyter-server<0.2.0,>=0.1.0->voila) (5.0.7)\n",
      "Requirement already satisfied: jupyter-core>=4.4.0 in /home/aakash/miniconda3/lib/python3.7/site-packages (from jupyter-server<0.2.0,>=0.1.0->voila) (4.6.3)\n",
      "Requirement already satisfied: ipython-genutils in /home/aakash/miniconda3/lib/python3.7/site-packages (from jupyter-server<0.2.0,>=0.1.0->voila) (0.2.0)\n",
      "Requirement already satisfied: pyzmq>=17 in /home/aakash/miniconda3/lib/python3.7/site-packages (from jupyter-server<0.2.0,>=0.1.0->voila) (19.0.2)\n",
      "Requirement already satisfied: traitlets>=4.2.1 in /home/aakash/miniconda3/lib/python3.7/site-packages (from jupyter-server<0.2.0,>=0.1.0->voila) (4.3.3)\n",
      "Requirement already satisfied: Send2Trash in /home/aakash/miniconda3/lib/python3.7/site-packages (from jupyter-server<0.2.0,>=0.1.0->voila) (1.5.0)\n",
      "Requirement already satisfied: ipykernel in /home/aakash/miniconda3/lib/python3.7/site-packages (from jupyter-server<0.2.0,>=0.1.0->voila) (5.3.4)\n",
      "Requirement already satisfied: tornado>=4 in /home/aakash/miniconda3/lib/python3.7/site-packages (from jupyter-server<0.2.0,>=0.1.0->voila) (6.0.4)\n",
      "Requirement already satisfied: terminado>=0.8.1 in /home/aakash/miniconda3/lib/python3.7/site-packages (from jupyter-server<0.2.0,>=0.1.0->voila) (0.8.3)\n",
      "Requirement already satisfied: jupyter-client>=5.3.1 in /home/aakash/miniconda3/lib/python3.7/site-packages (from jupyter-server<0.2.0,>=0.1.0->voila) (6.1.6)\n",
      "Requirement already satisfied: jinja2 in /home/aakash/miniconda3/lib/python3.7/site-packages (from jupyter-server<0.2.0,>=0.1.0->voila) (2.11.2)\n",
      "Requirement already satisfied: mistune<2,>=0.8.1 in /home/aakash/miniconda3/lib/python3.7/site-packages (from nbconvert<6,>=5.5.0->voila) (0.8.4)\n",
      "Requirement already satisfied: bleach in /home/aakash/miniconda3/lib/python3.7/site-packages (from nbconvert<6,>=5.5.0->voila) (3.1.5)\n",
      "Requirement already satisfied: testpath in /home/aakash/miniconda3/lib/python3.7/site-packages (from nbconvert<6,>=5.5.0->voila) (0.4.4)\n",
      "Requirement already satisfied: pandocfilters>=1.4.1 in /home/aakash/miniconda3/lib/python3.7/site-packages (from nbconvert<6,>=5.5.0->voila) (1.4.2)\n",
      "Requirement already satisfied: defusedxml in /home/aakash/miniconda3/lib/python3.7/site-packages (from nbconvert<6,>=5.5.0->voila) (0.6.0)\n",
      "Requirement already satisfied: entrypoints>=0.2.2 in /home/aakash/miniconda3/lib/python3.7/site-packages (from nbconvert<6,>=5.5.0->voila) (0.3)\n",
      "Requirement already satisfied: jsonschema!=2.5.0,>=2.4 in /home/aakash/miniconda3/lib/python3.7/site-packages (from nbformat->jupyter-server<0.2.0,>=0.1.0->voila) (3.2.0)\n",
      "Requirement already satisfied: six in /home/aakash/miniconda3/lib/python3.7/site-packages (from traitlets>=4.2.1->jupyter-server<0.2.0,>=0.1.0->voila) (1.14.0)\n",
      "Requirement already satisfied: decorator in /home/aakash/miniconda3/lib/python3.7/site-packages (from traitlets>=4.2.1->jupyter-server<0.2.0,>=0.1.0->voila) (4.4.2)\n",
      "Requirement already satisfied: ipython>=5.0.0 in /home/aakash/miniconda3/lib/python3.7/site-packages (from ipykernel->jupyter-server<0.2.0,>=0.1.0->voila) (7.17.0)\n",
      "Requirement already satisfied: ptyprocess; os_name != \"nt\" in /home/aakash/miniconda3/lib/python3.7/site-packages (from terminado>=0.8.1->jupyter-server<0.2.0,>=0.1.0->voila) (0.6.0)\n",
      "Requirement already satisfied: python-dateutil>=2.1 in /home/aakash/miniconda3/lib/python3.7/site-packages (from jupyter-client>=5.3.1->jupyter-server<0.2.0,>=0.1.0->voila) (2.8.1)\n",
      "Requirement already satisfied: MarkupSafe>=0.23 in /home/aakash/miniconda3/lib/python3.7/site-packages (from jinja2->jupyter-server<0.2.0,>=0.1.0->voila) (1.1.1)\n",
      "Requirement already satisfied: webencodings in /home/aakash/miniconda3/lib/python3.7/site-packages (from bleach->nbconvert<6,>=5.5.0->voila) (0.5.1)\n",
      "Requirement already satisfied: packaging in /home/aakash/miniconda3/lib/python3.7/site-packages (from bleach->nbconvert<6,>=5.5.0->voila) (20.4)\n",
      "Requirement already satisfied: importlib-metadata; python_version < \"3.8\" in /home/aakash/miniconda3/lib/python3.7/site-packages (from jsonschema!=2.5.0,>=2.4->nbformat->jupyter-server<0.2.0,>=0.1.0->voila) (1.7.0)\n",
      "Requirement already satisfied: setuptools in /home/aakash/miniconda3/lib/python3.7/site-packages (from jsonschema!=2.5.0,>=2.4->nbformat->jupyter-server<0.2.0,>=0.1.0->voila) (46.4.0.post20200518)\n",
      "Requirement already satisfied: attrs>=17.4.0 in /home/aakash/miniconda3/lib/python3.7/site-packages (from jsonschema!=2.5.0,>=2.4->nbformat->jupyter-server<0.2.0,>=0.1.0->voila) (19.3.0)\n",
      "Requirement already satisfied: pyrsistent>=0.14.0 in /home/aakash/miniconda3/lib/python3.7/site-packages (from jsonschema!=2.5.0,>=2.4->nbformat->jupyter-server<0.2.0,>=0.1.0->voila) (0.16.0)\n",
      "Requirement already satisfied: jedi>=0.10 in /home/aakash/miniconda3/lib/python3.7/site-packages (from ipython>=5.0.0->ipykernel->jupyter-server<0.2.0,>=0.1.0->voila) (0.17.2)\n",
      "Requirement already satisfied: pexpect; sys_platform != \"win32\" in /home/aakash/miniconda3/lib/python3.7/site-packages (from ipython>=5.0.0->ipykernel->jupyter-server<0.2.0,>=0.1.0->voila) (4.8.0)\n",
      "Requirement already satisfied: prompt-toolkit!=3.0.0,!=3.0.1,<3.1.0,>=2.0.0 in /home/aakash/miniconda3/lib/python3.7/site-packages (from ipython>=5.0.0->ipykernel->jupyter-server<0.2.0,>=0.1.0->voila) (3.0.6)\n",
      "Requirement already satisfied: pickleshare in /home/aakash/miniconda3/lib/python3.7/site-packages (from ipython>=5.0.0->ipykernel->jupyter-server<0.2.0,>=0.1.0->voila) (0.7.5)\n",
      "Requirement already satisfied: backcall in /home/aakash/miniconda3/lib/python3.7/site-packages (from ipython>=5.0.0->ipykernel->jupyter-server<0.2.0,>=0.1.0->voila) (0.2.0)\n",
      "Requirement already satisfied: pyparsing>=2.0.2 in /home/aakash/miniconda3/lib/python3.7/site-packages (from packaging->bleach->nbconvert<6,>=5.5.0->voila) (2.4.7)\n",
      "Requirement already satisfied: zipp>=0.5 in /home/aakash/miniconda3/lib/python3.7/site-packages (from importlib-metadata; python_version < \"3.8\"->jsonschema!=2.5.0,>=2.4->nbformat->jupyter-server<0.2.0,>=0.1.0->voila) (3.1.0)\n",
      "Requirement already satisfied: parso<0.8.0,>=0.7.0 in /home/aakash/miniconda3/lib/python3.7/site-packages (from jedi>=0.10->ipython>=5.0.0->ipykernel->jupyter-server<0.2.0,>=0.1.0->voila) (0.7.1)\n",
      "Requirement already satisfied: wcwidth in /home/aakash/miniconda3/lib/python3.7/site-packages (from prompt-toolkit!=3.0.0,!=3.0.1,<3.1.0,>=2.0.0->ipython>=5.0.0->ipykernel->jupyter-server<0.2.0,>=0.1.0->voila) (0.2.5)\n",
      "Installing collected packages: async-generator, jupyter-server, jupyterlab-pygments, voila\n",
      "Successfully installed async-generator-1.10 jupyter-server-0.1.1 jupyterlab-pygments-0.1.1 voila-0.1.22\n",
      "Enabling: voila\n",
      "- Writing config: /home/aakash/.jupyter\n",
      "    - Validating...\n",
      "      voila 0.1.22 \u001b[32mOK\u001b[0m\n",
      "Enabling: —sys-prefix\n",
      "- Writing config: /home/aakash/.jupyter\n",
      "    - Validating...\n",
      "Error loading server extension —sys-prefix\n",
      "     \u001b[31m X\u001b[0m is —sys-prefix importable?\n"
     ]
    }
   ],
   "source": [
    "!pip install voila\n",
    "!jupyter serverextension enable voila —sys-prefix"
   ]
  },
  {
   "cell_type": "code",
   "execution_count": null,
   "metadata": {},
   "outputs": [],
   "source": []
  }
 ],
 "metadata": {
  "kernelspec": {
   "display_name": "Python 3",
   "language": "python",
   "name": "python3"
  },
  "language_info": {
   "codemirror_mode": {
    "name": "ipython",
    "version": 3
   },
   "file_extension": ".py",
   "mimetype": "text/x-python",
   "name": "python",
   "nbconvert_exporter": "python",
   "pygments_lexer": "ipython3",
   "version": "3.7.7"
  }
 },
 "nbformat": 4,
 "nbformat_minor": 4
}
